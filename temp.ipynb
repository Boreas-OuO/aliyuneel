{
 "cells": [
  {
   "cell_type": "code",
   "execution_count": 6,
   "metadata": {},
   "outputs": [],
   "source": [
    "import json\n",
    "\n",
    "data = {\n",
    "    \"ETTm2\": {\n",
    "        \"96\": {\n",
    "            \"MSE\": None,\n",
    "            \"MAE\": None\n",
    "        },\n",
    "        \"192\": {\n",
    "            \"MSE\": None,\n",
    "            \"MAE\": None\n",
    "        },\n",
    "        \"336\": {\n",
    "            \"MSE\": None,\n",
    "            \"MAE\": None\n",
    "        },\n",
    "        \"720\": {\n",
    "            \"MSE\": None,\n",
    "            \"MAE\": None\n",
    "        }\n",
    "    },\n",
    "    \"electricity\": {\n",
    "        \"96\": {\n",
    "            \"MSE\": None,\n",
    "            \"MAE\": None\n",
    "        },\n",
    "        \"192\": {\n",
    "            \"MSE\": None,\n",
    "            \"MAE\": None\n",
    "        },\n",
    "        \"336\": {\n",
    "            \"MSE\": None,\n",
    "            \"MAE\": None\n",
    "        },\n",
    "        \"720\": {\n",
    "            \"MSE\": None,\n",
    "            \"MAE\": None\n",
    "        }\n",
    "    },\n",
    "    \"exchange_rate\": {\n",
    "        \"96\": {\n",
    "            \"MSE\": None,\n",
    "            \"MAE\": None\n",
    "        },\n",
    "        \"192\": {\n",
    "            \"MSE\": None,\n",
    "            \"MAE\": None\n",
    "        },\n",
    "        \"336\": {\n",
    "            \"MSE\": None,\n",
    "            \"MAE\": None\n",
    "        },\n",
    "        \"720\": {\n",
    "            \"MSE\": None,\n",
    "            \"MAE\": None\n",
    "        }\n",
    "    },\n",
    "    \"illness\": {\n",
    "        \"96\": {\n",
    "            \"MSE\": None,\n",
    "            \"MAE\": None\n",
    "        },\n",
    "        \"192\": {\n",
    "            \"MSE\": None,\n",
    "            \"MAE\": None\n",
    "        },\n",
    "        \"336\": {\n",
    "            \"MSE\": None,\n",
    "            \"MAE\": None\n",
    "        },\n",
    "        \"720\": {\n",
    "            \"MSE\": None,\n",
    "            \"MAE\": None\n",
    "        }\n",
    "    },\n",
    "    \"traffic\": {\n",
    "        \"96\": {\n",
    "            \"MSE\": None,\n",
    "            \"MAE\": None\n",
    "        },\n",
    "        \"192\": {\n",
    "            \"MSE\": None,\n",
    "            \"MAE\": None\n",
    "        },\n",
    "        \"336\": {\n",
    "            \"MSE\": None,\n",
    "            \"MAE\": None\n",
    "        },\n",
    "        \"720\": {\n",
    "            \"MSE\": None,\n",
    "            \"MAE\": None\n",
    "        }\n",
    "    },\n",
    "    \"weather\": {\n",
    "        \"96\": {\n",
    "            \"MSE\": None,\n",
    "            \"MAE\": None\n",
    "        },\n",
    "        \"192\": {\n",
    "            \"MSE\": None,\n",
    "            \"MAE\": None\n",
    "        },\n",
    "        \"336\": {\n",
    "            \"MSE\": None,\n",
    "            \"MAE\": None\n",
    "        },\n",
    "        \"720\": {\n",
    "            \"MSE\": None,\n",
    "            \"MAE\": None\n",
    "        }\n",
    "    }\n",
    "}\n",
    "\n",
    "json_data = json.dumps(data, indent=4)\n",
    "print(json_data)\n",
    "file_path = \"./Template/exp_log.json\"\n",
    "with open(file_path, \"w\") as file:\n",
    "    json.dump(data, file, indent=4)"
   ]
  },
  {
   "cell_type": "code",
   "execution_count": 1,
   "metadata": {},
   "outputs": [],
   "source": [
    "from src.dcv2 import Best"
   ]
  },
  {
   "cell_type": "code",
   "execution_count": 2,
   "metadata": {},
   "outputs": [],
   "source": [
    "log_path = './save_log/'\n",
    "bb = Best(log_path,name='ETTm2',pred_len=96)"
   ]
  },
  {
   "cell_type": "code",
   "execution_count": 3,
   "metadata": {},
   "outputs": [],
   "source": [
    "bb.save_log(0.1,0.2,0.1,0.2)"
   ]
  },
  {
   "cell_type": "code",
   "execution_count": null,
   "metadata": {},
   "outputs": [],
   "source": [
    "data[\"ETTm2\"][\"\"]"
   ]
  },
  {
   "cell_type": "code",
   "execution_count": 1,
   "metadata": {},
   "outputs": [
    {
     "ename": "ValueError",
     "evalue": "cannot set a row with mismatched columns",
     "output_type": "error",
     "traceback": [
      "\u001b[0;31m---------------------------------------------------------------------------\u001b[0m",
      "\u001b[0;31mValueError\u001b[0m                                Traceback (most recent call last)",
      "\u001b[1;32m/mnt/workspace/Dftcnn/temp.ipynb Cell 1\u001b[0m line \u001b[0;36m1\n\u001b[1;32m     <a href='vscode-notebook-cell://dsw-gateway-cn-shenzhen.data.aliyun.com/mnt/workspace/Dftcnn/temp.ipynb#W0sdnNjb2RlLXJlbW90ZQ%3D%3D?line=10'>11</a>\u001b[0m df \u001b[39m=\u001b[39m pd\u001b[39m.\u001b[39mDataFrame(data)\n\u001b[1;32m     <a href='vscode-notebook-cell://dsw-gateway-cn-shenzhen.data.aliyun.com/mnt/workspace/Dftcnn/temp.ipynb#W0sdnNjb2RlLXJlbW90ZQ%3D%3D?line=12'>13</a>\u001b[0m \u001b[39m# 填充数据\u001b[39;00m\n\u001b[0;32m---> <a href='vscode-notebook-cell://dsw-gateway-cn-shenzhen.data.aliyun.com/mnt/workspace/Dftcnn/temp.ipynb#W0sdnNjb2RlLXJlbW90ZQ%3D%3D?line=13'>14</a>\u001b[0m df\u001b[39m.\u001b[39;49mloc[\u001b[39m0\u001b[39;49m] \u001b[39m=\u001b[39m [\u001b[39m'\u001b[39m\u001b[39mETT*\u001b[39m\u001b[39m'\u001b[39m, \u001b[39m0.255\u001b[39m, \u001b[39m0.339\u001b[39m, \u001b[39m0.365\u001b[39m, \u001b[39m0.453\u001b[39m, \u001b[39m0.768\u001b[39m, \u001b[39m0.642\u001b[39m, \u001b[39m0.658\u001b[39m, \u001b[39m0.619\u001b[39m, \u001b[39m3.142\u001b[39m, \u001b[39m1.365\u001b[39m, \u001b[39m2.041\u001b[39m, \u001b[39m1.073\u001b[39m, \u001b[39m3.041\u001b[39m, \u001b[39m1.330\u001b[39m]\n\u001b[1;32m     <a href='vscode-notebook-cell://dsw-gateway-cn-shenzhen.data.aliyun.com/mnt/workspace/Dftcnn/temp.ipynb#W0sdnNjb2RlLXJlbW90ZQ%3D%3D?line=14'>15</a>\u001b[0m df\u001b[39m.\u001b[39mloc[\u001b[39m1\u001b[39m] \u001b[39m=\u001b[39m [\u001b[39m'\u001b[39m\u001b[39mElectricity\u001b[39m\u001b[39m'\u001b[39m, \u001b[39m0.201\u001b[39m, \u001b[39m0.317\u001b[39m, \u001b[39m0.274\u001b[39m, \u001b[39m0.368\u001b[39m, \u001b[39m0.258\u001b[39m, \u001b[39m0.357\u001b[39m, \u001b[39m0.312\u001b[39m, \u001b[39m0.402\u001b[39m, \u001b[39m0.680\u001b[39m, \u001b[39m0.645\u001b[39m, \u001b[39m0.375\u001b[39m, \u001b[39m0.437\u001b[39m, \u001b[39m0.985\u001b[39m, \u001b[39m0.813\u001b[39m]\n\u001b[1;32m     <a href='vscode-notebook-cell://dsw-gateway-cn-shenzhen.data.aliyun.com/mnt/workspace/Dftcnn/temp.ipynb#W0sdnNjb2RlLXJlbW90ZQ%3D%3D?line=15'>16</a>\u001b[0m df\u001b[39m.\u001b[39mloc[\u001b[39m2\u001b[39m] \u001b[39m=\u001b[39m [\u001b[39m'\u001b[39m\u001b[39mExchange\u001b[39m\u001b[39m'\u001b[39m, \u001b[39m0.197\u001b[39m, \u001b[39m0.323\u001b[39m, \u001b[39m0.847\u001b[39m, \u001b[39m0.752\u001b[39m, \u001b[39m0.968\u001b[39m, \u001b[39m0.812\u001b[39m, \u001b[39m1.065\u001b[39m, \u001b[39m0.829\u001b[39m, \u001b[39m1.551\u001b[39m, \u001b[39m1.058\u001b[39m, \u001b[39m1.453\u001b[39m, \u001b[39m1.049\u001b[39m, \u001b[39m3.004\u001b[39m, \u001b[39m1.432\u001b[39m]\n",
      "File \u001b[0;32m/home/pai/lib/python3.11/site-packages/pandas/core/indexing.py:885\u001b[0m, in \u001b[0;36m_LocationIndexer.__setitem__\u001b[0;34m(self, key, value)\u001b[0m\n\u001b[1;32m    882\u001b[0m \u001b[39mself\u001b[39m\u001b[39m.\u001b[39m_has_valid_setitem_indexer(key)\n\u001b[1;32m    884\u001b[0m iloc \u001b[39m=\u001b[39m \u001b[39mself\u001b[39m \u001b[39mif\u001b[39;00m \u001b[39mself\u001b[39m\u001b[39m.\u001b[39mname \u001b[39m==\u001b[39m \u001b[39m\"\u001b[39m\u001b[39miloc\u001b[39m\u001b[39m\"\u001b[39m \u001b[39melse\u001b[39;00m \u001b[39mself\u001b[39m\u001b[39m.\u001b[39mobj\u001b[39m.\u001b[39miloc\n\u001b[0;32m--> 885\u001b[0m iloc\u001b[39m.\u001b[39;49m_setitem_with_indexer(indexer, value, \u001b[39mself\u001b[39;49m\u001b[39m.\u001b[39;49mname)\n",
      "File \u001b[0;32m/home/pai/lib/python3.11/site-packages/pandas/core/indexing.py:1883\u001b[0m, in \u001b[0;36m_iLocIndexer._setitem_with_indexer\u001b[0;34m(self, indexer, value, name)\u001b[0m\n\u001b[1;32m   1880\u001b[0m     indexer, missing \u001b[39m=\u001b[39m convert_missing_indexer(indexer)\n\u001b[1;32m   1882\u001b[0m     \u001b[39mif\u001b[39;00m missing:\n\u001b[0;32m-> 1883\u001b[0m         \u001b[39mself\u001b[39;49m\u001b[39m.\u001b[39;49m_setitem_with_indexer_missing(indexer, value)\n\u001b[1;32m   1884\u001b[0m         \u001b[39mreturn\u001b[39;00m\n\u001b[1;32m   1886\u001b[0m \u001b[39mif\u001b[39;00m name \u001b[39m==\u001b[39m \u001b[39m\"\u001b[39m\u001b[39mloc\u001b[39m\u001b[39m\"\u001b[39m:\n\u001b[1;32m   1887\u001b[0m     \u001b[39m# must come after setting of missing\u001b[39;00m\n",
      "File \u001b[0;32m/home/pai/lib/python3.11/site-packages/pandas/core/indexing.py:2219\u001b[0m, in \u001b[0;36m_iLocIndexer._setitem_with_indexer_missing\u001b[0;34m(self, indexer, value)\u001b[0m\n\u001b[1;32m   2216\u001b[0m     \u001b[39mif\u001b[39;00m is_list_like_indexer(value):\n\u001b[1;32m   2217\u001b[0m         \u001b[39m# must have conforming columns\u001b[39;00m\n\u001b[1;32m   2218\u001b[0m         \u001b[39mif\u001b[39;00m \u001b[39mlen\u001b[39m(value) \u001b[39m!=\u001b[39m \u001b[39mlen\u001b[39m(\u001b[39mself\u001b[39m\u001b[39m.\u001b[39mobj\u001b[39m.\u001b[39mcolumns):\n\u001b[0;32m-> 2219\u001b[0m             \u001b[39mraise\u001b[39;00m \u001b[39mValueError\u001b[39;00m(\u001b[39m\"\u001b[39m\u001b[39mcannot set a row with mismatched columns\u001b[39m\u001b[39m\"\u001b[39m)\n\u001b[1;32m   2221\u001b[0m     value \u001b[39m=\u001b[39m Series(value, index\u001b[39m=\u001b[39m\u001b[39mself\u001b[39m\u001b[39m.\u001b[39mobj\u001b[39m.\u001b[39mcolumns, name\u001b[39m=\u001b[39mindexer)\n\u001b[1;32m   2223\u001b[0m \u001b[39mif\u001b[39;00m \u001b[39mnot\u001b[39;00m \u001b[39mlen\u001b[39m(\u001b[39mself\u001b[39m\u001b[39m.\u001b[39mobj):\n\u001b[1;32m   2224\u001b[0m     \u001b[39m# We will ignore the existing dtypes instead of using\u001b[39;00m\n\u001b[1;32m   2225\u001b[0m     \u001b[39m#  internals.concat logic\u001b[39;00m\n",
      "\u001b[0;31mValueError\u001b[0m: cannot set a row with mismatched columns"
     ]
    }
   ],
   "source": [
    "import pandas as pd\n",
    "\n",
    "# 创建空的 DataFrame\n",
    "data = {\n",
    "    'Metric': [],\n",
    "    'MSE (96)': [], 'MAE (96)': [],\n",
    "    'MSE (192)': [], 'MAE (192)': [],\n",
    "    'MSE (336)': [], 'MAE (336)': [],\n",
    "    'MSE (720)': [], 'MAE (720)': []\n",
    "}\n",
    "df = pd.DataFrame(data)\n",
    "\n",
    "# 填充数据\n",
    "df.loc[0] = ['ETT*', 0.255, 0.339, 0.365, 0.453, 0.768, 0.642, 0.658, 0.619, 3.142, 1.365, 2.041, 1.073, 3.041, 1.330]\n",
    "df.loc[1] = ['Electricity', 0.201, 0.317, 0.274, 0.368, 0.258, 0.357, 0.312, 0.402, 0.680, 0.645, 0.375, 0.437, 0.985, 0.813]\n",
    "df.loc[2] = ['Exchange', 0.197, 0.323, 0.847, 0.752, 0.968, 0.812, 1.065, 0.829, 1.551, 1.058, 1.453, 1.049, 3.004, 1.432]\n",
    "df.loc[3] = ['Traffic', 0.613, 0.388, 0.719, 0.391, 0.684, 0.384, 0.732, 0.423, 1.107, 0.685, 0.843, 0.453, 1.438, 0.784]\n",
    "df.loc[4] = ['Weather', 0.266, 0.336, 0.300, 0.384, 0.458, 0.490, 0.689, 0.596, 0.594, 0.587, 0.369, 0.406, 0.615, 0.589]\n",
    "df.loc[5] = ['ILI', 3.483, 1.287, 5.764, 1.677, 4.480, 1.444, 4.400, 1.382, 6.026, 1.770, 5.914, 1.734, 6.624, 1.830]\n",
    "\n",
    "# 打印 DataFrame\n",
    "print(df)\n"
   ]
  },
  {
   "cell_type": "code",
   "execution_count": 16,
   "metadata": {},
   "outputs": [],
   "source": [
    "import pandas as pd\n",
    "test_size = 100\n",
    "O_size = 96\n",
    "_col_name = test_size = 100\n",
    "O_size = 96\n",
    "test_size = 100\n",
    "col_names = [f'{i//2}_predict' if i%2==0 else f'{(i-1)//2}_real' for i in range(test_size*2)]\n",
    "index_name = [i for i in range(O_size)]\n",
    "alllog = pd.DataFrame(index=index_name,columns=col_names)\n",
    "alllog"
   ]
  },
  {
   "cell_type": "code",
   "execution_count": null,
   "metadata": {},
   "outputs": [],
   "source": []
  },
  {
   "cell_type": "code",
   "execution_count": null,
   "metadata": {},
   "outputs": [],
   "source": []
  },
  {
   "cell_type": "code",
   "execution_count": 3,
   "metadata": {},
   "outputs": [],
   "source": [
    "mean = 0.5086\n",
    "std = 0.04\n",
    "n = 469"
   ]
  },
  {
   "cell_type": "code",
   "execution_count": 4,
   "metadata": {},
   "outputs": [],
   "source": [
    "import scipy.stats as ss"
   ]
  },
  {
   "cell_type": "code",
   "execution_count": 11,
   "metadata": {},
   "outputs": [
    {
     "data": {
      "text/plain": [
       "(0.4426756372867932, 0.5745243627132068)"
      ]
     },
     "execution_count": 11,
     "metadata": {},
     "output_type": "execute_result"
    }
   ],
   "source": [
    "ss.t.interval(0.90,n,loc=mean,scale=std)"
   ]
  },
  {
   "cell_type": "code",
   "execution_count": null,
   "metadata": {},
   "outputs": [],
   "source": []
  }
 ],
 "metadata": {
  "kernelspec": {
   "display_name": "ptl",
   "language": "python",
   "name": "python3"
  },
  "language_info": {
   "codemirror_mode": {
    "name": "ipython",
    "version": 3
   },
   "file_extension": ".py",
   "mimetype": "text/x-python",
   "name": "python",
   "nbconvert_exporter": "python",
   "pygments_lexer": "ipython3",
   "version": "3.11.5"
  }
 },
 "nbformat": 4,
 "nbformat_minor": 2
}
